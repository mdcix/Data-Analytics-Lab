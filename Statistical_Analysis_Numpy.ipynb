{
 "cells": [
  {
   "cell_type": "code",
   "execution_count": 1,
   "metadata": {},
   "outputs": [
    {
     "name": "stdout",
     "output_type": "stream",
     "text": [
      "Mean of custom array: 26.363636363636363\n",
      "Median of custom array: 25.0\n",
      "Mode of custom array: 15\n",
      "Variance of custom array: 200.41322314049586\n",
      "Standard deviation of custom array: 14.156737729452216\n"
     ]
    }
   ],
   "source": [
    "#STATISTICAL ANALYSIS USING NUMPY\n",
    "\n",
    "import numpy as np\n",
    "from scipy import stats\n",
    "\n",
    "# Custom Array\n",
    "custom_array = [5, 10, 15, 20, 25, 30, 35, 40, 45, 50, 15]\n",
    "\n",
    "# Mean\n",
    "array_mean = np.mean(custom_array)\n",
    "print(\"Mean of custom array:\", array_mean)\n",
    "\n",
    "# Median\n",
    "array_median = np.median(custom_array)\n",
    "print(\"Median of custom array:\", array_median)\n",
    "\n",
    "# Mode\n",
    "array_mode = stats.mode(custom_array)\n",
    "print(\"Mode of custom array:\", array_mode.mode[0])\n",
    "\n",
    "# Variance\n",
    "array_variance = np.var(custom_array)\n",
    "print(\"Variance of custom array:\", array_variance)\n",
    "\n",
    "# Standard Deviation\n",
    "array_std_dev = np.std(custom_array)\n",
    "print(\"Standard deviation of custom array:\", array_std_dev)\n"
   ]
  },
  {
   "cell_type": "code",
   "execution_count": null,
   "metadata": {},
   "outputs": [],
   "source": []
  }
 ],
 "metadata": {
  "kernelspec": {
   "display_name": "Python 3",
   "language": "python",
   "name": "python3"
  },
  "language_info": {
   "codemirror_mode": {
    "name": "ipython",
    "version": 3
   },
   "file_extension": ".py",
   "mimetype": "text/x-python",
   "name": "python",
   "nbconvert_exporter": "python",
   "pygments_lexer": "ipython3",
   "version": "3.8.5"
  }
 },
 "nbformat": 4,
 "nbformat_minor": 4
}
