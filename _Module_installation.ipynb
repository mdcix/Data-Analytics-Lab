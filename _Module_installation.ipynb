{
 "cells": [
  {
   "cell_type": "code",
   "execution_count": 4,
   "metadata": {},
   "outputs": [
    {
     "name": "stdout",
     "output_type": "stream",
     "text": [
      "Defaulting to user installation because normal site-packages is not writeable\n",
      "Requirement already satisfied: numpy in /opt/apps/anaconda3/2020.11/lib/python3.8/site-packages (1.19.2)\n",
      "Requirement already satisfied: scipy in /home/Jupyterhub/2021115050/.local/lib/python3.8/site-packages (1.4.1)\n",
      "Requirement already satisfied: pandas in /opt/apps/anaconda3/2020.11/lib/python3.8/site-packages (1.1.3)\n",
      "Requirement already satisfied: matplotlib in /opt/apps/anaconda3/2020.11/lib/python3.8/site-packages (3.3.2)\n",
      "Requirement already satisfied: scikit-learn in /opt/apps/anaconda3/2020.11/lib/python3.8/site-packages (0.23.2)\n",
      "Requirement already satisfied: seaborn in /opt/apps/anaconda3/2020.11/lib/python3.8/site-packages (0.11.0)\n",
      "Requirement already satisfied: jupyterlab in /opt/apps/anaconda3/2020.11/lib/python3.8/site-packages (2.2.6)\n",
      "Requirement already satisfied: notebook>=4.3.1 in /opt/apps/anaconda3/2020.11/lib/python3.8/site-packages (from jupyterlab) (6.1.4)\n",
      "Requirement already satisfied: tornado!=6.0.0,!=6.0.1,!=6.0.2 in /opt/apps/anaconda3/2020.11/lib/python3.8/site-packages (from jupyterlab) (6.1)\n",
      "Requirement already satisfied: jupyterlab_server<2.0,>=1.1.5 in /opt/apps/anaconda3/2020.11/lib/python3.8/site-packages (from jupyterlab) (1.2.0)\n",
      "Requirement already satisfied: jinja2>=2.10 in /opt/apps/anaconda3/2020.11/lib/python3.8/site-packages (from jupyterlab) (2.11.2)\n",
      "Requirement already satisfied: MarkupSafe>=0.23 in /opt/apps/anaconda3/2020.11/lib/python3.8/site-packages (from jinja2>=2.10->jupyterlab) (1.1.1)\n",
      "Requirement already satisfied: json5 in /opt/apps/anaconda3/2020.11/lib/python3.8/site-packages (from jupyterlab_server<2.0,>=1.1.5->jupyterlab) (0.9.5)\n",
      "Requirement already satisfied: jsonschema>=3.0.1 in /opt/apps/anaconda3/2020.11/lib/python3.8/site-packages (from jupyterlab_server<2.0,>=1.1.5->jupyterlab) (3.2.0)\n",
      "Requirement already satisfied: requests in /opt/apps/anaconda3/2020.11/lib/python3.8/site-packages (from jupyterlab_server<2.0,>=1.1.5->jupyterlab) (2.24.0)\n",
      "Requirement already satisfied: setuptools in /opt/apps/anaconda3/2020.11/lib/python3.8/site-packages (from jsonschema>=3.0.1->jupyterlab_server<2.0,>=1.1.5->jupyterlab) (50.3.1.post20201107)\n",
      "Requirement already satisfied: pyrsistent>=0.14.0 in /opt/apps/anaconda3/2020.11/lib/python3.8/site-packages (from jsonschema>=3.0.1->jupyterlab_server<2.0,>=1.1.5->jupyterlab) (0.17.3)\n",
      "Requirement already satisfied: six>=1.11.0 in /opt/apps/anaconda3/2020.11/lib/python3.8/site-packages (from jsonschema>=3.0.1->jupyterlab_server<2.0,>=1.1.5->jupyterlab) (1.15.0)\n",
      "Requirement already satisfied: attrs>=17.4.0 in /opt/apps/anaconda3/2020.11/lib/python3.8/site-packages (from jsonschema>=3.0.1->jupyterlab_server<2.0,>=1.1.5->jupyterlab) (20.3.0)\n",
      "Requirement already satisfied: Send2Trash in /opt/apps/anaconda3/2020.11/lib/python3.8/site-packages (from notebook>=4.3.1->jupyterlab) (1.5.0)\n",
      "Requirement already satisfied: nbformat in /opt/apps/anaconda3/2020.11/lib/python3.8/site-packages (from notebook>=4.3.1->jupyterlab) (5.0.8)\n",
      "Requirement already satisfied: terminado>=0.8.3 in /opt/apps/anaconda3/2020.11/lib/python3.8/site-packages (from notebook>=4.3.1->jupyterlab) (0.9.1)\n",
      "Requirement already satisfied: jupyter-core>=4.6.1 in /opt/apps/anaconda3/2020.11/lib/python3.8/site-packages (from notebook>=4.3.1->jupyterlab) (4.6.3)\n",
      "Requirement already satisfied: traitlets>=4.2.1 in /opt/apps/anaconda3/2020.11/lib/python3.8/site-packages (from notebook>=4.3.1->jupyterlab) (5.0.5)\n",
      "Requirement already satisfied: nbconvert in /opt/apps/anaconda3/2020.11/lib/python3.8/site-packages (from notebook>=4.3.1->jupyterlab) (6.0.7)\n",
      "Requirement already satisfied: argon2-cffi in /opt/apps/anaconda3/2020.11/lib/python3.8/site-packages (from notebook>=4.3.1->jupyterlab) (20.1.0)\n",
      "Requirement already satisfied: ipykernel in /opt/apps/anaconda3/2020.11/lib/python3.8/site-packages (from notebook>=4.3.1->jupyterlab) (5.3.4)\n",
      "Requirement already satisfied: jupyter-client>=5.3.4 in /opt/apps/anaconda3/2020.11/lib/python3.8/site-packages (from notebook>=4.3.1->jupyterlab) (6.1.7)\n",
      "Requirement already satisfied: ipython-genutils in /opt/apps/anaconda3/2020.11/lib/python3.8/site-packages (from notebook>=4.3.1->jupyterlab) (0.2.0)\n",
      "Requirement already satisfied: prometheus-client in /opt/apps/anaconda3/2020.11/lib/python3.8/site-packages (from notebook>=4.3.1->jupyterlab) (0.8.0)\n",
      "Requirement already satisfied: pyzmq>=17 in /opt/apps/anaconda3/2020.11/lib/python3.8/site-packages (from notebook>=4.3.1->jupyterlab) (19.0.2)\n",
      "Requirement already satisfied: python-dateutil>=2.1 in /opt/apps/anaconda3/2020.11/lib/python3.8/site-packages (from jupyter-client>=5.3.4->notebook>=4.3.1->jupyterlab) (2.8.1)\n",
      "Requirement already satisfied: ptyprocess in /opt/apps/anaconda3/2020.11/lib/python3.8/site-packages (from terminado>=0.8.3->notebook>=4.3.1->jupyterlab) (0.6.0)\n",
      "Requirement already satisfied: kiwisolver>=1.0.1 in /opt/apps/anaconda3/2020.11/lib/python3.8/site-packages (from matplotlib) (1.3.0)\n",
      "Requirement already satisfied: pyparsing!=2.0.4,!=2.1.2,!=2.1.6,>=2.0.3 in /opt/apps/anaconda3/2020.11/lib/python3.8/site-packages (from matplotlib) (2.4.7)\n",
      "Requirement already satisfied: cycler>=0.10 in /opt/apps/anaconda3/2020.11/lib/python3.8/site-packages (from matplotlib) (0.10.0)\n",
      "Requirement already satisfied: pillow>=6.2.0 in /opt/apps/anaconda3/2020.11/lib/python3.8/site-packages (from matplotlib) (8.0.1)\n",
      "Requirement already satisfied: certifi>=2020.06.20 in /opt/apps/anaconda3/2020.11/lib/python3.8/site-packages (from matplotlib) (2020.6.20)\n",
      "Requirement already satisfied: pytz>=2017.2 in /opt/apps/anaconda3/2020.11/lib/python3.8/site-packages (from pandas) (2020.1)\n",
      "Requirement already satisfied: threadpoolctl>=2.0.0 in /opt/apps/anaconda3/2020.11/lib/python3.8/site-packages (from scikit-learn) (2.1.0)\n",
      "Requirement already satisfied: joblib>=0.11 in /opt/apps/anaconda3/2020.11/lib/python3.8/site-packages (from scikit-learn) (0.17.0)\n",
      "Requirement already satisfied: cffi>=1.0.0 in /opt/apps/anaconda3/2020.11/lib/python3.8/site-packages (from argon2-cffi->notebook>=4.3.1->jupyterlab) (1.14.3)\n",
      "Requirement already satisfied: pycparser in /opt/apps/anaconda3/2020.11/lib/python3.8/site-packages (from cffi>=1.0.0->argon2-cffi->notebook>=4.3.1->jupyterlab) (2.20)\n",
      "Requirement already satisfied: ipython>=5.0.0 in /opt/apps/anaconda3/2020.11/lib/python3.8/site-packages (from ipykernel->notebook>=4.3.1->jupyterlab) (7.19.0)\n",
      "Requirement already satisfied: jedi>=0.10 in /opt/apps/anaconda3/2020.11/lib/python3.8/site-packages (from ipython>=5.0.0->ipykernel->notebook>=4.3.1->jupyterlab) (0.17.1)\n",
      "Requirement already satisfied: backcall in /opt/apps/anaconda3/2020.11/lib/python3.8/site-packages (from ipython>=5.0.0->ipykernel->notebook>=4.3.1->jupyterlab) (0.2.0)\n",
      "Requirement already satisfied: pygments in /opt/apps/anaconda3/2020.11/lib/python3.8/site-packages (from ipython>=5.0.0->ipykernel->notebook>=4.3.1->jupyterlab) (2.7.2)\n",
      "Requirement already satisfied: pickleshare in /opt/apps/anaconda3/2020.11/lib/python3.8/site-packages (from ipython>=5.0.0->ipykernel->notebook>=4.3.1->jupyterlab) (0.7.5)\n",
      "Requirement already satisfied: prompt-toolkit!=3.0.0,!=3.0.1,<3.1.0,>=2.0.0 in /opt/apps/anaconda3/2020.11/lib/python3.8/site-packages (from ipython>=5.0.0->ipykernel->notebook>=4.3.1->jupyterlab) (3.0.8)\n",
      "Requirement already satisfied: decorator in /opt/apps/anaconda3/2020.11/lib/python3.8/site-packages (from ipython>=5.0.0->ipykernel->notebook>=4.3.1->jupyterlab) (4.4.2)\n",
      "Requirement already satisfied: pexpect>4.3 in /opt/apps/anaconda3/2020.11/lib/python3.8/site-packages (from ipython>=5.0.0->ipykernel->notebook>=4.3.1->jupyterlab) (4.8.0)\n",
      "Requirement already satisfied: parso<0.8.0,>=0.7.0 in /opt/apps/anaconda3/2020.11/lib/python3.8/site-packages (from jedi>=0.10->ipython>=5.0.0->ipykernel->notebook>=4.3.1->jupyterlab) (0.7.0)\n",
      "Requirement already satisfied: wcwidth in /opt/apps/anaconda3/2020.11/lib/python3.8/site-packages (from prompt-toolkit!=3.0.0,!=3.0.1,<3.1.0,>=2.0.0->ipython>=5.0.0->ipykernel->notebook>=4.3.1->jupyterlab) (0.2.5)\n",
      "Requirement already satisfied: nbclient<0.6.0,>=0.5.0 in /opt/apps/anaconda3/2020.11/lib/python3.8/site-packages (from nbconvert->notebook>=4.3.1->jupyterlab) (0.5.1)\n",
      "Requirement already satisfied: entrypoints>=0.2.2 in /opt/apps/anaconda3/2020.11/lib/python3.8/site-packages (from nbconvert->notebook>=4.3.1->jupyterlab) (0.3)\n",
      "Requirement already satisfied: pandocfilters>=1.4.1 in /opt/apps/anaconda3/2020.11/lib/python3.8/site-packages (from nbconvert->notebook>=4.3.1->jupyterlab) (1.4.3)\n",
      "Requirement already satisfied: jupyterlab-pygments in /opt/apps/anaconda3/2020.11/lib/python3.8/site-packages (from nbconvert->notebook>=4.3.1->jupyterlab) (0.1.2)\n",
      "Requirement already satisfied: bleach in /opt/apps/anaconda3/2020.11/lib/python3.8/site-packages (from nbconvert->notebook>=4.3.1->jupyterlab) (3.2.1)\n",
      "Requirement already satisfied: mistune<2,>=0.8.1 in /opt/apps/anaconda3/2020.11/lib/python3.8/site-packages (from nbconvert->notebook>=4.3.1->jupyterlab) (0.8.4)\n",
      "Requirement already satisfied: defusedxml in /opt/apps/anaconda3/2020.11/lib/python3.8/site-packages (from nbconvert->notebook>=4.3.1->jupyterlab) (0.6.0)\n",
      "Requirement already satisfied: testpath in /opt/apps/anaconda3/2020.11/lib/python3.8/site-packages (from nbconvert->notebook>=4.3.1->jupyterlab) (0.4.4)\n",
      "Requirement already satisfied: async-generator in /opt/apps/anaconda3/2020.11/lib/python3.8/site-packages (from nbclient<0.6.0,>=0.5.0->nbconvert->notebook>=4.3.1->jupyterlab) (1.10)\n",
      "Requirement already satisfied: nest-asyncio in /opt/apps/anaconda3/2020.11/lib/python3.8/site-packages (from nbclient<0.6.0,>=0.5.0->nbconvert->notebook>=4.3.1->jupyterlab) (1.4.2)\n",
      "Requirement already satisfied: packaging in /opt/apps/anaconda3/2020.11/lib/python3.8/site-packages (from bleach->nbconvert->notebook>=4.3.1->jupyterlab) (20.4)\n",
      "Requirement already satisfied: webencodings in /opt/apps/anaconda3/2020.11/lib/python3.8/site-packages (from bleach->nbconvert->notebook>=4.3.1->jupyterlab) (0.5.1)\n",
      "Requirement already satisfied: urllib3!=1.25.0,!=1.25.1,<1.26,>=1.21.1 in /opt/apps/anaconda3/2020.11/lib/python3.8/site-packages (from requests->jupyterlab_server<2.0,>=1.1.5->jupyterlab) (1.25.11)\n",
      "Requirement already satisfied: chardet<4,>=3.0.2 in /opt/apps/anaconda3/2020.11/lib/python3.8/site-packages (from requests->jupyterlab_server<2.0,>=1.1.5->jupyterlab) (3.0.4)\n",
      "Requirement already satisfied: idna<3,>=2.5 in /opt/apps/anaconda3/2020.11/lib/python3.8/site-packages (from requests->jupyterlab_server<2.0,>=1.1.5->jupyterlab) (2.10)\n",
      "\u001b[33mWARNING: You are using pip version 20.3.3; however, version 24.0 is available.\n",
      "You should consider upgrading via the '/opt/apps/anaconda3/2020.11/bin/python -m pip install --upgrade pip' command.\u001b[0m\n"
     ]
    }
   ],
   "source": [
    "# RUN THIS CELL TO INSTALL ALL NECESSARY MODULES FOR DATA ANALYTICS\n",
    "!pip install numpy scipy pandas matplotlib scikit-learn seaborn jupyterlab"
   ]
  },
  {
   "cell_type": "code",
   "execution_count": null,
   "metadata": {},
   "outputs": [],
   "source": []
  }
 ],
 "metadata": {
  "kernelspec": {
   "display_name": "Python 3",
   "language": "python",
   "name": "python3"
  },
  "language_info": {
   "codemirror_mode": {
    "name": "ipython",
    "version": 3
   },
   "file_extension": ".py",
   "mimetype": "text/x-python",
   "name": "python",
   "nbconvert_exporter": "python",
   "pygments_lexer": "ipython3",
   "version": "3.8.5"
  }
 },
 "nbformat": 4,
 "nbformat_minor": 4
}
